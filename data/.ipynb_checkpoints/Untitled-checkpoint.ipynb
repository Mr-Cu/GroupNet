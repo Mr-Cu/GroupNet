{
 "cells": [
  {
   "cell_type": "code",
   "execution_count": 4,
   "id": "dae3c552",
   "metadata": {},
   "outputs": [
    {
     "name": "stdout",
     "output_type": "stream",
     "text": [
      "torch.Size([2500, 23, 15, 2])\n"
     ]
    }
   ],
   "source": [
    "import os, random, numpy as np, copy\n",
    "\n",
    "from torch.utils.data import Dataset\n",
    "import torch\n",
    "\n",
    "\n",
    "def seq_collate(data):\n",
    "\n",
    "    (past_traj, future_traj) = zip(*data)\n",
    "    past_traj = torch.stack(past_traj,dim=0)\n",
    "    future_traj = torch.stack(future_traj,dim=0)\n",
    "    data = {\n",
    "        'past_traj': past_traj,\n",
    "        'future_traj': future_traj,\n",
    "        'seq': 'mssd',\n",
    "    }\n",
    "\n",
    "    return data\n",
    "\n",
    "class MSSDDataset(Dataset):\n",
    "    \"\"\"Dataloder for the Trajectory datasets\"\"\"\n",
    "    def __init__(\n",
    "        self, obs_len=5, pred_len=10, training=True\n",
    "    ):\n",
    "        super(MSSDDataset, self).__init__()\n",
    "        self.obs_len = obs_len\n",
    "        self.pred_len = pred_len\n",
    "        self.seq_len = self.obs_len + self.pred_len\n",
    "\n",
    "        # if training:\n",
    "        #     data_root = 'datasets/nba/train.npy'\n",
    "        # else:\n",
    "        #     data_root = 'datasets/nba/test.npy'\n",
    "        \n",
    "        if training:\n",
    "            data_root = '../datasets/mssd/train.npy'\n",
    "        else:\n",
    "            data_root = '../datasets/mssd/test.npy'\n",
    "\n",
    "        self.trajs = np.load(data_root) \n",
    "\n",
    "        if training:\n",
    "            self.trajs = self.trajs[:7500]\n",
    "        else:\n",
    "            self.trajs = self.trajs[:2500]\n",
    "\n",
    "        self.batch_len = len(self.trajs)\n",
    "        # print(self.batch_len)\n",
    "\n",
    "        self.traj_abs = torch.from_numpy(self.trajs).type(torch.float)\n",
    "        self.traj_norm = torch.from_numpy(self.trajs-self.trajs[:,self.obs_len-1:self.obs_len]).type(torch.float)\n",
    "\n",
    "        self.traj_abs = self.traj_abs.permute(0,2,1,3)\n",
    "        self.traj_norm = self.traj_norm.permute(0,2,1,3)\n",
    "        print(self.traj_abs.shape)\n",
    "        # print(self.traj_norm.shape)\n",
    "\n",
    "    def __len__(self):\n",
    "        return self.batch_len\n",
    "\n",
    "    def __getitem__(self, index):\n",
    "        # print(self.traj_abs.shape)\n",
    "        past_traj = self.traj_abs[index, :, :self.obs_len, :]\n",
    "        future_traj = self.traj_abs[index, :, self.obs_len:, :]\n",
    "        out = [past_traj, future_traj]\n",
    "        return out\n",
    "\n",
    "\"\"\" dataloader \"\"\"\n",
    "train_set = MSSDDataset(\n",
    "    obs_len=5,\n",
    "    pred_len=10,\n",
    "    training=True)\n"
   ]
  },
  {
   "cell_type": "code",
   "execution_count": null,
   "id": "8356b453",
   "metadata": {},
   "outputs": [],
   "source": []
  }
 ],
 "metadata": {
  "kernelspec": {
   "display_name": "Python 3 (ipykernel)",
   "language": "python",
   "name": "python3"
  },
  "language_info": {
   "codemirror_mode": {
    "name": "ipython",
    "version": 3
   },
   "file_extension": ".py",
   "mimetype": "text/x-python",
   "name": "python",
   "nbconvert_exporter": "python",
   "pygments_lexer": "ipython3",
   "version": "3.7.11"
  }
 },
 "nbformat": 4,
 "nbformat_minor": 5
}
